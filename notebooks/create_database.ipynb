{
 "cells": [
  {
   "cell_type": "code",
   "execution_count": 1,
   "metadata": {},
   "outputs": [],
   "source": [
    "%matplotlib inline\n",
    "\n",
    "import matplotlib.pyplot as plt\n",
    "import numpy as np\n",
    "from astropy.time import Time\n",
    "from astropy.io import fits\n",
    "import astropy.units as u\n",
    "import h5py\n",
    "from astropy.utils.console import ProgressBar\n",
    "from astropy.coordinates import SkyCoord, Angle\n",
    "from aesop import EchelleSpectrum\n",
    "import os"
   ]
  },
  {
   "cell_type": "code",
   "execution_count": 2,
   "metadata": {},
   "outputs": [],
   "source": [
    "root_dir = '/Users/bmmorris/data/'\n",
    "target_paths = [os.path.abspath(os.path.join(root_dir, p)) \n",
    "                for p in open('/Users/bmmorris/git/aesop/notebooks/freckles_target_paths.txt').read().splitlines()]\n",
    "spectrum_indices = [p.split('.wfrmcpc')[0][-4:] for p in target_paths]\n",
    "\n",
    "validated_paths = []\n",
    "\n",
    "for path in target_paths: \n",
    "    try: \n",
    "        _ = fits.getheader(path)\n",
    "        validated_paths.append(path)\n",
    "    except OSError: \n",
    "        print(path)\n",
    "\n",
    "target_names = [(fits.getheader(p)['OBJNAME'].replace(' ', '').replace('-', '')\n",
    "                 .replace('+', '').replace('_', ''))\n",
    "                for p in validated_paths]"
   ]
  },
  {
   "cell_type": "code",
   "execution_count": 3,
   "metadata": {},
   "outputs": [],
   "source": [
    "from astroquery.simbad import Simbad\n",
    "\n",
    "s = Simbad()\n",
    "s.add_votable_fields('flux(V)')\n",
    "s.add_votable_fields('sptype')"
   ]
  },
  {
   "cell_type": "code",
   "execution_count": 4,
   "metadata": {},
   "outputs": [
    {
     "data": {
      "image/png": "[encoded data removed]",
      "text/plain": [
       "<Figure size 432x288 with 1 Axes>"
      ]
     },
     "metadata": {},
     "output_type": "display_data"
    }
   ],
   "source": [
    "# archive.close() \n",
    "archive = h5py.File('archive.hdf5', 'w')\n",
    "\n",
    "poly_order = 10\n",
    "\n",
    "for target_path, target_name in zip(target_paths, target_names):\n",
    "    target_spectrum = EchelleSpectrum.from_fits(target_path)\n",
    "    object_name = target_spectrum.header['OBJNAME']\n",
    "\n",
    "    if object_name not in list(archive) and target_name != 'sky': \n",
    "        n_orders = len(target_spectrum.spectrum_list)\n",
    "\n",
    "        dset = archive.create_dataset(object_name, shape=(n_orders, 3+poly_order+1))\n",
    "\n",
    "        query = s.query_object(object_name)\n",
    "        v_mag = query['FLUX_V']\n",
    "        sptype = query['SP_TYPE']\n",
    "        dset.attrs['V'] = v_mag\n",
    "        \n",
    "        if object_name == '61CygA':\n",
    "            dset.attrs['V'] = [5.21]\n",
    "        elif object_name == '61CygB':\n",
    "            dset.attrs['V'] = [6.03]\n",
    "        elif object_name == 'Kepler-17':\n",
    "            dset.attrs['V'] = [14.0]\n",
    "        \n",
    "        dset.attrs['SP_TYPE'] = str(sptype).split('\\n')[2].strip()\n",
    "        dset.attrs['NAME'] = object_name\n",
    "\n",
    "        matrix = []\n",
    "        for order in np.arange(n_orders):\n",
    "            \n",
    "            wave, flux = target_spectrum[order].wavelength, target_spectrum[order].flux/target_spectrum.header['EXPTIME']\n",
    "            polynomial_coefficients = np.polyfit(wave - wave.mean(), flux, 10)\n",
    "\n",
    "            matrix.append(np.concatenate([[wave.value.mean(), np.median(np.diff(wave.value)), len(wave)], \n",
    "                                          polynomial_coefficients]))\n",
    "            if target_name == 'HD98230' and order == 20:\n",
    "                plt.plot(wave, flux)\n",
    "                plt.plot(wave, np.polyval(polynomial_coefficients, wave - wave.mean()))\n",
    "                plt.show()\n",
    "\n",
    "        dset[:] = np.array(matrix)\n",
    "archive.close()"
   ]
  },
  {
   "cell_type": "code",
   "execution_count": 5,
   "metadata": {},
   "outputs": [],
   "source": [
    "archive = h5py.File('archive.hdf5', 'r+')\n",
    "sptype_dictionary = dict()\n",
    "\n",
    "for target in archive:\n",
    "    dset = archive[target]\n",
    "    sptype = dset.attrs['SP_TYPE']\n",
    "    if len(sptype) > 0:  \n",
    "        sptype_dictionary[sptype] = dset.attrs['NAME']\n",
    "    elif target == '61CygA': \n",
    "        sptype_dictionary['K5V'] = dset.attrs['NAME']\n",
    "    elif target == '61CygB': \n",
    "        sptype_dictionary['K7V'] = dset.attrs['NAME']\n",
    "\n",
    "from json import dump\n",
    "dump(sptype_dictionary, open('sptype_dict.json', 'w'))"
   ]
  },
  {
   "cell_type": "code",
   "execution_count": 6,
   "metadata": {},
   "outputs": [
    {
     "name": "stdout",
     "output_type": "stream",
     "text": [
      "51 Peg [5.46]\n",
      "61CygA [5.21]\n",
      "61CygB [6.03]\n",
      "EK Dra [7.61]\n",
      "EPIC 211928486 [13.52]\n",
      "EPIC 211966629 [13.26]\n",
      "EPIC211928486 [13.52]\n",
      "EPIC211966629 [13.26]\n",
      "EQ Vir [9.372]\n",
      "GJ 4099 [11.36]\n",
      "GJ 705 [8.17]\n",
      "GJ 9781A [9.02]\n",
      "GJ4099 [11.36]\n",
      "GJ702B [6.07]\n",
      "HAT P-11 [9.47]\n",
      "HAT-P-11 [9.47]\n",
      "HD  82106 [7.197]\n",
      "HD 10697 [6.279]\n",
      "HD 113827 [9.391]\n",
      "HD 122120 [9.04]\n",
      "HD 129333 [7.61]\n",
      "HD 14039 [8.27]\n",
      "HD 145675 [6.67]\n",
      "HD 145742 [7.55]\n",
      "HD 178126 [9.215]\n",
      "HD 182488 [6.356]\n",
      "HD 209290 [9.146]\n",
      "HD 210277 [6.63]\n",
      "HD 220182 [7.36]\n",
      "HD 222107 [3.82]\n",
      "HD 266611 [9.745]\n",
      "HD 38230 [7.36]\n",
      "HD 42250 [7.43]\n",
      "HD 50692 [5.748]\n",
      "HD 5857 [8.92]\n",
      "HD 6497 [6.401]\n",
      "HD 67767 [5.73]\n",
      "HD 73667 [7.582]\n",
      "HD 79555 [7.925]\n",
      "HD 88230 [6.61]\n",
      "HD 89744 [5.72]\n",
      "HD110833 [7.04]\n",
      "HD127506 [8.97]\n",
      "HD134319 [8.41]\n",
      "HD148467 [8.85]\n",
      "HD149957 [9.465]\n",
      "HD151288 [8.799]\n",
      "HD175742 [8.019]\n",
      "HD200560 [7.68]\n",
      "HD221639 [7.19]\n",
      "HD34411 [4.71]\n",
      "HD39587 [4.4]\n",
      "HD41593 [6.74]\n",
      "HD45088 [6.768]\n",
      "HD47752 [8.056]\n",
      "HD62613 [6.56]\n",
      "HD68017 [6.81]\n",
      "HD86728 [5.4]\n",
      "HD87884 [8.13]\n",
      "HD98230 [4.729]\n",
      "HR 8832 [5.57]\n",
      "KIC 9652680 [11.45]\n",
      "KIC9652680 [11.45]\n",
      "Kepler-17 [14.]\n",
      "Kepler-63 [12.02]\n",
      "sigma Draconis [4.68]\n"
     ]
    }
   ],
   "source": [
    "for target in archive: \n",
    "    print(target, archive[target].attrs['V'])"
   ]
  },
  {
   "cell_type": "code",
   "execution_count": null,
   "metadata": {},
   "outputs": [],
   "source": []
  }
 ],
 "metadata": {
  "kernelspec": {
   "display_name": "Python 3",
   "language": "python",
   "name": "python3"
  },
  "language_info": {
   "codemirror_mode": {
    "name": "ipython",
    "version": 3
   },
   "file_extension": ".py",
   "mimetype": "text/x-python",
   "name": "python",
   "nbconvert_exporter": "python",
   "pygments_lexer": "ipython3",
   "version": "3.5.4"
  }
 },
 "nbformat": 4,
 "nbformat_minor": 2
}
